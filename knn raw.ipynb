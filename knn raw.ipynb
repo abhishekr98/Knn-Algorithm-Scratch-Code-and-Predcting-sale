{
 "cells": [
  {
   "cell_type": "code",
   "execution_count": 1,
   "id": "7f0b11f6",
   "metadata": {},
   "outputs": [],
   "source": [
    "import pandas as pd\n",
    "import numpy as np"
   ]
  },
  {
   "cell_type": "code",
   "execution_count": 2,
   "id": "76892801",
   "metadata": {
    "scrolled": true
   },
   "outputs": [
    {
     "data": {
      "text/html": [
       "<div>\n",
       "<style scoped>\n",
       "    .dataframe tbody tr th:only-of-type {\n",
       "        vertical-align: middle;\n",
       "    }\n",
       "\n",
       "    .dataframe tbody tr th {\n",
       "        vertical-align: top;\n",
       "    }\n",
       "\n",
       "    .dataframe thead th {\n",
       "        text-align: right;\n",
       "    }\n",
       "</style>\n",
       "<table border=\"1\" class=\"dataframe\">\n",
       "  <thead>\n",
       "    <tr style=\"text-align: right;\">\n",
       "      <th></th>\n",
       "      <th>Income</th>\n",
       "      <th>Lot_Size</th>\n",
       "      <th>Response</th>\n",
       "    </tr>\n",
       "  </thead>\n",
       "  <tbody>\n",
       "    <tr>\n",
       "      <th>0</th>\n",
       "      <td>34</td>\n",
       "      <td>26</td>\n",
       "      <td>Not Bought</td>\n",
       "    </tr>\n",
       "    <tr>\n",
       "      <th>1</th>\n",
       "      <td>34</td>\n",
       "      <td>40</td>\n",
       "      <td>Not Bought</td>\n",
       "    </tr>\n",
       "    <tr>\n",
       "      <th>2</th>\n",
       "      <td>34</td>\n",
       "      <td>46</td>\n",
       "      <td>Not Bought</td>\n",
       "    </tr>\n",
       "    <tr>\n",
       "      <th>3</th>\n",
       "      <td>34</td>\n",
       "      <td>48</td>\n",
       "      <td>Not Bought</td>\n",
       "    </tr>\n",
       "    <tr>\n",
       "      <th>4</th>\n",
       "      <td>34</td>\n",
       "      <td>53</td>\n",
       "      <td>Not Bought</td>\n",
       "    </tr>\n",
       "    <tr>\n",
       "      <th>...</th>\n",
       "      <td>...</td>\n",
       "      <td>...</td>\n",
       "      <td>...</td>\n",
       "    </tr>\n",
       "    <tr>\n",
       "      <th>175</th>\n",
       "      <td>86</td>\n",
       "      <td>121</td>\n",
       "      <td>Bought</td>\n",
       "    </tr>\n",
       "    <tr>\n",
       "      <th>176</th>\n",
       "      <td>87</td>\n",
       "      <td>109</td>\n",
       "      <td>Bought</td>\n",
       "    </tr>\n",
       "    <tr>\n",
       "      <th>177</th>\n",
       "      <td>88</td>\n",
       "      <td>119</td>\n",
       "      <td>Bought</td>\n",
       "    </tr>\n",
       "    <tr>\n",
       "      <th>178</th>\n",
       "      <td>89</td>\n",
       "      <td>110</td>\n",
       "      <td>Bought</td>\n",
       "    </tr>\n",
       "    <tr>\n",
       "      <th>179</th>\n",
       "      <td>89</td>\n",
       "      <td>124</td>\n",
       "      <td>Bought</td>\n",
       "    </tr>\n",
       "  </tbody>\n",
       "</table>\n",
       "<p>180 rows × 3 columns</p>\n",
       "</div>"
      ],
      "text/plain": [
       "     Income  Lot_Size    Response\n",
       "0        34        26  Not Bought\n",
       "1        34        40  Not Bought\n",
       "2        34        46  Not Bought\n",
       "3        34        48  Not Bought\n",
       "4        34        53  Not Bought\n",
       "..      ...       ...         ...\n",
       "175      86       121      Bought\n",
       "176      87       109      Bought\n",
       "177      88       119      Bought\n",
       "178      89       110      Bought\n",
       "179      89       124      Bought\n",
       "\n",
       "[180 rows x 3 columns]"
      ]
     },
     "execution_count": 2,
     "metadata": {},
     "output_type": "execute_result"
    }
   ],
   "source": [
    "df = pd.read_csv(\"F:/Python DS/db/RidingMowers.csv\")\n",
    "df"
   ]
  },
  {
   "cell_type": "code",
   "execution_count": 3,
   "id": "4a385dca",
   "metadata": {},
   "outputs": [],
   "source": [
    "new_point = pd.Series([36, 42], index =[\"Income\", \"Lot_Size\"])\n",
    "new_point\n",
    "k=3\n",
    "a=[]\n",
    "l=df.drop('Response', axis=1)"
   ]
  },
  {
   "cell_type": "code",
   "execution_count": 4,
   "id": "f3f0b0b9",
   "metadata": {},
   "outputs": [
    {
     "name": "stdout",
     "output_type": "stream",
     "text": [
      "[16.1245154965971, 2.8284271247461903, 4.47213595499958, 6.324555320336759, 11.180339887498949, 16.1245154965971, 17.11724276862369, 21.095023109728988, 22.090722034374522, 24.08318915758459, 1.4142135623730951, 2.23606797749979, 24.020824298928627, 3.0, 19.0, 15.033296378372908, 3.1622776601683795, 1.0, 4.123105625617661, 7.0710678118654755, 9.055385138137417, 19.026297590440446, 34.0147027033899, 13.152946437965905, 2.23606797749979, 23.08679276123039, 31.064449134018133, 37.05401462729781, 10.44030650891055, 11.40175425099138, 19.4164878389476, 24.331050121192877, 13.0, 17.08800749063506, 12.529964086141668, 7.810249675906654, 6.708203932499369, 6.082762530298219, 14.317821063276353, 24.73863375370596, 36.49657518178932, 35.6931365951495, 13.601470508735444, 8.06225774829855, 10.0, 21.540659228538015, 12.041594578792296, 9.486832980505138, 18.35755975068582, 23.259406699226016, 23.259406699226016, 12.529964086141668, 11.40175425099138, 13.601470508735444, 14.212670403551895, 38.600518131237564, 23.323807579381203, 21.633307652783937, 20.0, 16.97056274847714, 26.832815729997478, 33.24154027718932, 33.24154027718932, 17.69180601295413, 14.317821063276353, 13.92838827718412, 13.152946437965905, 24.413111231467404, 21.2602916254693, 18.439088914585774, 22.80350850198276, 23.430749027719962, 19.849433241279208, 20.0, 18.35755975068582, 40.311288741492746, 31.906112267087632, 34.48187929913333, 19.313207915827967, 18.973665961010276, 22.20360331117452, 29.068883707497267, 19.924858845171276, 19.235384061671343, 25.495097567963924, 32.202484376209235, 39.824615503479755, 24.413111231467404, 22.360679774997898, 20.396078054371138, 20.09975124224178, 33.60059523282288, 42.05948168962618, 22.135943621178654, 21.213203435596427, 28.319604517012593, 39.96248240537617, 41.677331968349414, 23.345235059857504, 28.0178514522438, 33.24154027718932, 35.4682957019364, 37.013511046643494, 31.240998703626616, 25.0, 38.41874542459709, 25.96150997149434, 43.93176527297759, 62.177166226839255, 41.036569057366385, 62.64982043070834, 68.87670143089025, 71.58910531638176, 87.31551981177229, 44.553338819890925, 63.13477647065839, 79.30952023559341, 58.52349955359813, 50.32891812864648, 56.61271941887264, 80.11242100947892, 85.61541917201598, 86.53900854527974, 49.51767361255979, 50.24937810560445, 53.2634959423431, 54.037024344425184, 50.20956084253277, 81.85963596303125, 58.412327466040935, 82.29216244576394, 82.29216244576394, 84.09518416651456, 47.634021455258214, 51.62363799656123, 70.49113419430843, 73.06161783043132, 78.29431652425353, 89.96110270555825, 51.66236541235796, 67.67569726275453, 74.43117626371358, 68.24221567329127, 81.88406438373708, 79.75587752636166, 82.365041127896, 67.80117993073571, 89.00561780022652, 55.31726674375732, 57.3149195236284, 72.42237223399962, 80.77747210701756, 60.108235708594876, 75.45197147855052, 75.45197147855052, 78.77182237323191, 55.0, 60.8276253029822, 72.80109889280519, 61.61980201201558, 75.6042326857432, 76.40026177965623, 77.20103626247513, 56.302753041036986, 59.20304046246274, 65.76473218982953, 94.51454914456292, 65.11528238439882, 70.03570517957252, 80.80222769206304, 56.43580423808985, 59.07622195096772, 89.58794561770016, 92.11405973031478, 82.80096617793781, 93.49331526906082, 84.20213774008353, 92.91393867445294, 86.21484790916237, 97.63708311906906]\n"
     ]
    }
   ],
   "source": [
    "for i in range(180):\n",
    "    s=(new_point['Income']-l.iloc[[i]]['Income'])**2\n",
    "    t=(new_point['Lot_Size']-l.iloc[[i]]['Lot_Size'])**2\n",
    "    c=s+t\n",
    "    x=np.sqrt(int(c))\n",
    "    a.append(x)\n",
    "print(a)"
   ]
  },
  {
   "cell_type": "code",
   "execution_count": 5,
   "id": "4f04722c",
   "metadata": {},
   "outputs": [
    {
     "data": {
      "text/html": [
       "<div>\n",
       "<style scoped>\n",
       "    .dataframe tbody tr th:only-of-type {\n",
       "        vertical-align: middle;\n",
       "    }\n",
       "\n",
       "    .dataframe tbody tr th {\n",
       "        vertical-align: top;\n",
       "    }\n",
       "\n",
       "    .dataframe thead th {\n",
       "        text-align: right;\n",
       "    }\n",
       "</style>\n",
       "<table border=\"1\" class=\"dataframe\">\n",
       "  <thead>\n",
       "    <tr style=\"text-align: right;\">\n",
       "      <th></th>\n",
       "      <th>0</th>\n",
       "    </tr>\n",
       "  </thead>\n",
       "  <tbody>\n",
       "    <tr>\n",
       "      <th>0</th>\n",
       "      <td>16.124515</td>\n",
       "    </tr>\n",
       "    <tr>\n",
       "      <th>1</th>\n",
       "      <td>2.828427</td>\n",
       "    </tr>\n",
       "    <tr>\n",
       "      <th>2</th>\n",
       "      <td>4.472136</td>\n",
       "    </tr>\n",
       "    <tr>\n",
       "      <th>3</th>\n",
       "      <td>6.324555</td>\n",
       "    </tr>\n",
       "    <tr>\n",
       "      <th>4</th>\n",
       "      <td>11.180340</td>\n",
       "    </tr>\n",
       "    <tr>\n",
       "      <th>...</th>\n",
       "      <td>...</td>\n",
       "    </tr>\n",
       "    <tr>\n",
       "      <th>175</th>\n",
       "      <td>93.493315</td>\n",
       "    </tr>\n",
       "    <tr>\n",
       "      <th>176</th>\n",
       "      <td>84.202138</td>\n",
       "    </tr>\n",
       "    <tr>\n",
       "      <th>177</th>\n",
       "      <td>92.913939</td>\n",
       "    </tr>\n",
       "    <tr>\n",
       "      <th>178</th>\n",
       "      <td>86.214848</td>\n",
       "    </tr>\n",
       "    <tr>\n",
       "      <th>179</th>\n",
       "      <td>97.637083</td>\n",
       "    </tr>\n",
       "  </tbody>\n",
       "</table>\n",
       "<p>180 rows × 1 columns</p>\n",
       "</div>"
      ],
      "text/plain": [
       "             0\n",
       "0    16.124515\n",
       "1     2.828427\n",
       "2     4.472136\n",
       "3     6.324555\n",
       "4    11.180340\n",
       "..         ...\n",
       "175  93.493315\n",
       "176  84.202138\n",
       "177  92.913939\n",
       "178  86.214848\n",
       "179  97.637083\n",
       "\n",
       "[180 rows x 1 columns]"
      ]
     },
     "execution_count": 5,
     "metadata": {},
     "output_type": "execute_result"
    }
   ],
   "source": [
    "ndf = pd.DataFrame(a)\n",
    "ndf"
   ]
  },
  {
   "cell_type": "code",
   "execution_count": 6,
   "id": "eaf7a3b1",
   "metadata": {},
   "outputs": [
    {
     "data": {
      "text/html": [
       "<div>\n",
       "<style scoped>\n",
       "    .dataframe tbody tr th:only-of-type {\n",
       "        vertical-align: middle;\n",
       "    }\n",
       "\n",
       "    .dataframe tbody tr th {\n",
       "        vertical-align: top;\n",
       "    }\n",
       "\n",
       "    .dataframe thead th {\n",
       "        text-align: right;\n",
       "    }\n",
       "</style>\n",
       "<table border=\"1\" class=\"dataframe\">\n",
       "  <thead>\n",
       "    <tr style=\"text-align: right;\">\n",
       "      <th></th>\n",
       "      <th>0</th>\n",
       "    </tr>\n",
       "  </thead>\n",
       "  <tbody>\n",
       "    <tr>\n",
       "      <th>17</th>\n",
       "      <td>1.000000</td>\n",
       "    </tr>\n",
       "    <tr>\n",
       "      <th>10</th>\n",
       "      <td>1.414214</td>\n",
       "    </tr>\n",
       "    <tr>\n",
       "      <th>11</th>\n",
       "      <td>2.236068</td>\n",
       "    </tr>\n",
       "    <tr>\n",
       "      <th>24</th>\n",
       "      <td>2.236068</td>\n",
       "    </tr>\n",
       "    <tr>\n",
       "      <th>1</th>\n",
       "      <td>2.828427</td>\n",
       "    </tr>\n",
       "    <tr>\n",
       "      <th>...</th>\n",
       "      <td>...</td>\n",
       "    </tr>\n",
       "    <tr>\n",
       "      <th>173</th>\n",
       "      <td>92.114060</td>\n",
       "    </tr>\n",
       "    <tr>\n",
       "      <th>177</th>\n",
       "      <td>92.913939</td>\n",
       "    </tr>\n",
       "    <tr>\n",
       "      <th>175</th>\n",
       "      <td>93.493315</td>\n",
       "    </tr>\n",
       "    <tr>\n",
       "      <th>166</th>\n",
       "      <td>94.514549</td>\n",
       "    </tr>\n",
       "    <tr>\n",
       "      <th>179</th>\n",
       "      <td>97.637083</td>\n",
       "    </tr>\n",
       "  </tbody>\n",
       "</table>\n",
       "<p>180 rows × 1 columns</p>\n",
       "</div>"
      ],
      "text/plain": [
       "             0\n",
       "17    1.000000\n",
       "10    1.414214\n",
       "11    2.236068\n",
       "24    2.236068\n",
       "1     2.828427\n",
       "..         ...\n",
       "173  92.114060\n",
       "177  92.913939\n",
       "175  93.493315\n",
       "166  94.514549\n",
       "179  97.637083\n",
       "\n",
       "[180 rows x 1 columns]"
      ]
     },
     "execution_count": 6,
     "metadata": {},
     "output_type": "execute_result"
    }
   ],
   "source": [
    "a = ndf.sort_values(by =0, ascending = 1)\n",
    "a"
   ]
  },
  {
   "cell_type": "code",
   "execution_count": 7,
   "id": "8bf12722",
   "metadata": {},
   "outputs": [
    {
     "data": {
      "text/plain": [
       "Int64Index([17, 10, 11], dtype='int64')"
      ]
     },
     "execution_count": 7,
     "metadata": {},
     "output_type": "execute_result"
    }
   ],
   "source": [
    "nearest = a.head(k)\n",
    "index = nearest.index\n",
    "index"
   ]
  },
  {
   "cell_type": "code",
   "execution_count": 8,
   "id": "2d92ae01",
   "metadata": {},
   "outputs": [
    {
     "name": "stdout",
     "output_type": "stream",
     "text": [
      "Cx has high chance on 'not buying!'\n"
     ]
    }
   ],
   "source": [
    "bought, n_Bought =0,0\n",
    "for i in index:\n",
    "    response = df.iloc[i]['Response']\n",
    "    if response == 'Bought':\n",
    "        bought+=1\n",
    "    else:\n",
    "        n_Bought+=1\n",
    "        \n",
    "if bought>=n_Bought:\n",
    "    print(\"Cx has high chance on 'buying!'\")\n",
    "else:\n",
    "    print(\"Cx has high chance on 'not buying!'\")\n",
    "    "
   ]
  },
  {
   "cell_type": "code",
   "execution_count": null,
   "id": "8856fed8",
   "metadata": {},
   "outputs": [],
   "source": []
  },
  {
   "cell_type": "code",
   "execution_count": null,
   "id": "7f2f9c07",
   "metadata": {},
   "outputs": [],
   "source": []
  }
 ],
 "metadata": {
  "kernelspec": {
   "display_name": "Python 3",
   "language": "python",
   "name": "python3"
  },
  "language_info": {
   "codemirror_mode": {
    "name": "ipython",
    "version": 3
   },
   "file_extension": ".py",
   "mimetype": "text/x-python",
   "name": "python",
   "nbconvert_exporter": "python",
   "pygments_lexer": "ipython3",
   "version": "3.8.8"
  }
 },
 "nbformat": 4,
 "nbformat_minor": 5
}
